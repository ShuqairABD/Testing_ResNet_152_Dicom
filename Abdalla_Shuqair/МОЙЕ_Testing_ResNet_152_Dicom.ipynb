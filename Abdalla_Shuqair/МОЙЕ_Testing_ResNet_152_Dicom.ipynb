{
  "nbformat": 4,
  "nbformat_minor": 0,
  "metadata": {
    "colab": {
      "provenance": [],
      "collapsed_sections": [
        "goP0Yyb0_gIp",
        "h_nsgs7D_lLk",
        "z9jo6I7RE9rK"
      ],
      "gpuType": "T4",
      "mount_file_id": "1QKd7h_5zzX-LW44KFV9-c_G7r4ETki0Z",
      "authorship_tag": "ABX9TyN5GvyNmkVxIg6uEop3VPDP",
      "include_colab_link": true
    },
    "kernelspec": {
      "name": "python3",
      "display_name": "Python 3"
    },
    "language_info": {
      "name": "python"
    },
    "accelerator": "GPU"
  },
  "cells": [
    {
      "cell_type": "markdown",
      "metadata": {
        "id": "view-in-github",
        "colab_type": "text"
      },
      "source": [
        "<a href=\"https://colab.research.google.com/github/ShuqairABD/Testing_ResNet_152_Dicom/blob/main/Abdalla_Shuqair/%D0%9C%D0%9E%D0%99%D0%95_Testing_ResNet_152_Dicom.ipynb\" target=\"_parent\"><img src=\"https://colab.research.google.com/assets/colab-badge.svg\" alt=\"Open In Colab\"/></a>"
      ]
    },
    {
      "cell_type": "markdown",
      "source": [
        "# **Start**"
      ],
      "metadata": {
        "id": "goP0Yyb0_gIp"
      }
    },
    {
      "cell_type": "code",
      "source": [
        "!pip install torch torchvision\n"
      ],
      "metadata": {
        "id": "WS8uZCns5XMz"
      },
      "execution_count": null,
      "outputs": []
    },
    {
      "cell_type": "code",
      "source": [
        "import torch\n",
        "from torch.utils.data import Dataset, Subset, DataLoader\n",
        "from torchvision import models, transforms\n",
        "from torchvision.io import read_image, ImageReadMode\n",
        "import torch.nn as nn\n",
        "import torch.nn.functional as F\n",
        "from torch.utils.tensorboard import SummaryWriter\n",
        "from sklearn.metrics import precision_score, recall_score, f1_score, confusion_matrix, ConfusionMatrixDisplay\n",
        "import albumentations as A\n",
        "from torchvision.transforms import v2\n",
        "import numpy as np\n",
        "import cv2\n",
        "from PIL import Image\n",
        "import PIL\n",
        "from pathlib import Path\n",
        "import os\n",
        "import math\n",
        "import matplotlib.pyplot as plt\n",
        "from sklearn.model_selection import train_test_split\n",
        "import copy\n",
        "from torchsummary import summary\n",
        "from datetime import datetime\n",
        "from tqdm import tqdm\n",
        "import gc\n",
        "import random\n",
        "import pandas as pd\n",
        "import pprint\n",
        "from tabulate import tabulate\n",
        "\n",
        "import torchvision.models as models\n",
        "from torch.optim import Adam\n",
        "from torchvision.models import resnet50\n",
        "import torchvision.transforms as transforms\n",
        "from torch.utils.data import DataLoader, SubsetRandomSampler\n",
        "from torchvision.datasets import ImageFolder\n",
        "from torch.utils.data import Subset\n",
        "\n",
        "\n",
        "from torchvision import models, transforms, datasets\n",
        "\n"
      ],
      "metadata": {
        "id": "vU4LHxNF5Uk7"
      },
      "execution_count": null,
      "outputs": []
    },
    {
      "cell_type": "code",
      "source": [
        "import torch\n",
        "import torch.nn as nn\n",
        "import torchvision.transforms as transforms\n",
        "import torchvision.models as models\n",
        "from torch.utils.data import DataLoader, random_split\n",
        "from torchvision.datasets import ImageFolder\n",
        "from torch.optim import Adam\n",
        "from torch.optim.lr_scheduler import StepLR\n",
        "import os\n",
        "from PIL import Image\n",
        "import matplotlib.pyplot as plt\n",
        "import numpy as np\n"
      ],
      "metadata": {
        "id": "fb9Lv74s5PfT"
      },
      "execution_count": null,
      "outputs": []
    },
    {
      "cell_type": "code",
      "source": [
        "!pip install pydicom"
      ],
      "metadata": {
        "colab": {
          "base_uri": "https://localhost:8080/"
        },
        "id": "3iFB95ZAKVrI",
        "outputId": "fd2b94e4-12b2-4c64-d48a-3149d5a79025"
      },
      "execution_count": null,
      "outputs": [
        {
          "output_type": "stream",
          "name": "stdout",
          "text": [
            "Collecting pydicom\n",
            "  Downloading pydicom-2.4.4-py3-none-any.whl (1.8 MB)\n",
            "\u001b[2K     \u001b[90m━━━━━━━━━━━━━━━━━━━━━━━━━━━━━━━━━━━━━━━━\u001b[0m \u001b[32m1.8/1.8 MB\u001b[0m \u001b[31m9.3 MB/s\u001b[0m eta \u001b[36m0:00:00\u001b[0m\n",
            "\u001b[?25hInstalling collected packages: pydicom\n",
            "Successfully installed pydicom-2.4.4\n"
          ]
        }
      ]
    },
    {
      "cell_type": "code",
      "source": [
        "import os\n",
        "import torch\n",
        "import torch.nn as nn\n",
        "from torchvision import models, transforms\n",
        "from PIL import Image\n",
        "import matplotlib.pyplot as plt\n",
        "import pydicom\n",
        "import numpy as np"
      ],
      "metadata": {
        "id": "tu0IJwakiRtX"
      },
      "execution_count": null,
      "outputs": []
    },
    {
      "cell_type": "code",
      "source": [
        "from google.colab import drive\n",
        "drive.mount('/content/drive')"
      ],
      "metadata": {
        "colab": {
          "base_uri": "https://localhost:8080/"
        },
        "id": "zVkMnLz5KO0w",
        "outputId": "886fb860-105b-4f6f-eec0-767a659b1c59"
      },
      "execution_count": null,
      "outputs": [
        {
          "output_type": "stream",
          "name": "stdout",
          "text": [
            "Mounted at /content/drive\n"
          ]
        }
      ]
    },
    {
      "cell_type": "markdown",
      "source": [
        "# **testing .dcm**"
      ],
      "metadata": {
        "id": "7_voYdBAdK6_"
      }
    },
    {
      "cell_type": "code",
      "source": [
        "!pip install pydicom\n"
      ],
      "metadata": {
        "colab": {
          "base_uri": "https://localhost:8080/"
        },
        "id": "k0wHd3hycTPT",
        "outputId": "6a67b3eb-1f0b-4255-821d-6acbad224f8e"
      },
      "execution_count": null,
      "outputs": [
        {
          "output_type": "stream",
          "name": "stdout",
          "text": [
            "Collecting pydicom\n",
            "  Downloading pydicom-2.4.4-py3-none-any.whl (1.8 MB)\n",
            "\u001b[2K     \u001b[90m━━━━━━━━━━━━━━━━━━━━━━━━━━━━━━━━━━━━━━━━\u001b[0m \u001b[32m1.8/1.8 MB\u001b[0m \u001b[31m23.4 MB/s\u001b[0m eta \u001b[36m0:00:00\u001b[0m\n",
            "\u001b[?25hInstalling collected packages: pydicom\n",
            "Successfully installed pydicom-2.4.4\n"
          ]
        }
      ]
    },
    {
      "cell_type": "code",
      "source": [
        "\n",
        "device = torch.device(\"cuda\" if torch.cuda.is_available() else \"cpu\")\n",
        "\n",
        "model = models.resnet152(weights=None)\n",
        "num_ftrs = model.fc.in_features\n",
        "model.fc = nn.Sequential(\n",
        "    nn.Linear(num_ftrs, 128),\n",
        "    nn.ReLU(inplace=True),\n",
        "    nn.Linear(128, 1),\n",
        "    nn.Sigmoid()\n",
        ").to(device)\n",
        "\n",
        "\n",
        "model_path = '/content/drive/MyDrive/resnet152_epoch_10.pth'\n",
        "model.load_state_dict(torch.load(model_path, map_location=device))\n",
        "model.to(device)\n",
        "model.eval()\n",
        "\n",
        "transform = transforms.Compose([\n",
        "    transforms.Resize((220, 220)),\n",
        "    transforms.ToTensor(),\n",
        "    transforms.Normalize(mean=[0.485, 0.456, 0.406], std=[0.229, 0.224, 0.225])\n",
        "])\n",
        "\n",
        "label_mapping = {'Healthy': 0, 'Unhealthy': 1}\n",
        "\n",
        "folder_path = '/content/drive/MyDrive/test_dcm'\n",
        "\n",
        "def test_model(model, transform, label_mapping, folder_path, device):\n",
        "    model.eval()\n",
        "\n",
        "    for filename in os.listdir(folder_path):\n",
        "        if filename.lower().endswith('.dcm'):\n",
        "\n",
        "            image_path = os.path.join(folder_path, filename)\n",
        "            dicom_image = pydicom.dcmread(image_path)\n",
        "            image_array = dicom_image.pixel_array\n",
        "            image = Image.fromarray(image_array).convert('RGB')\n",
        "            input_image = transform(image).unsqueeze(0).to(device)\n",
        "\n",
        "\n",
        "            with torch.no_grad():\n",
        "                output = model(input_image)\n",
        "\n",
        "\n",
        "            predicted = (output > 0.5).float()\n",
        "\n",
        "            #class NAME\n",
        "            predicted_label = predicted.item()\n",
        "            predicted_class_name = list(label_mapping.keys())[list(label_mapping.values()).index(int(predicted_label))]\n",
        "\n",
        "            print(f\"Predicted class name for {filename}: {predicted_class_name}\")\n",
        "\n",
        "            plt.imshow(image)\n",
        "            plt.title(f\"Predicted class: {predicted_class_name}\")\n",
        "            plt.axis('off')\n",
        "            plt.show()\n",
        "\n",
        "\n",
        "test_model(model, transform, label_mapping, folder_path, device)\n"
      ],
      "metadata": {
        "id": "1_Q9xGwucY28"
      },
      "execution_count": null,
      "outputs": []
    },
    {
      "cell_type": "markdown",
      "source": [
        "# **Copy weights to drive**"
      ],
      "metadata": {
        "id": "z9jo6I7RE9rK"
      }
    },
    {
      "cell_type": "code",
      "source": [
        "!cp /content/fine_tuned4_resnet152.pth /content/drive/MyDrive/fine_tuned4_resnet152.pth\n"
      ],
      "metadata": {
        "id": "XukIjVSyD_tR"
      },
      "execution_count": null,
      "outputs": []
    }
  ]
}